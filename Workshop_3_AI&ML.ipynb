{
  "nbformat": 4,
  "nbformat_minor": 0,
  "metadata": {
    "colab": {
      "provenance": [],
      "collapsed_sections": [
        "qyM34tbHIqGi",
        "EvraDxaeRVeo",
        "AVZNGyRdI4I4",
        "Va6AGI6iMAG9",
        "-SLq1jbSMKPm"
      ]
    },
    "kernelspec": {
      "name": "python3",
      "display_name": "Python 3"
    },
    "language_info": {
      "name": "python"
    }
  },
  "cells": [
    {
      "cell_type": "markdown",
      "source": [
        "# Implementation of MCP Neuron for AND and OR Function."
      ],
      "metadata": {
        "id": "IY-_Zy_b71lD"
      }
    },
    {
      "cell_type": "code",
      "source": [
        "from os import stat\n",
        "def MCP_Neurons_AND(X1, X2, T):\n",
        "  \"\"\"\n",
        "  This functions implements basic AND operations with MCP Neuron for two inputs.\n",
        "  Arguments:\n",
        "  Inputs:\n",
        "  X1 (1 nd array): An array of binary values.\n",
        "  X2 (1 nd array): An array of binary values.\n",
        "  Output:\n",
        "  state_neuron(1D-list): An state of neuron 1 0r 0 for the particular inputs.\n",
        "  \"\"\"\n",
        "  assert len(X1) == len(X2)\n",
        "  ### YOUR CODE HERE ###\n",
        "  # Perform an element wise addition of two input arrays stored in a new array(list):\n",
        "  # Create a new array to put all the prediction let's name that a state_neuron.\n",
        "  # Append 1 in sate_neuron if sum (element) of above list is above Threshold else append 0.\n",
        "  state_neuron = []\n",
        "  for i in range(len(X1)):\n",
        "    if X1[i] + X2[i] > T:\n",
        "      state_neuron.append(1)\n",
        "    else:\n",
        "      state_neuron.append(0)\n",
        "\n",
        "  return state_neuron"
      ],
      "metadata": {
        "id": "Fu-YDOe_8GJi"
      },
      "execution_count": null,
      "outputs": []
    },
    {
      "cell_type": "code",
      "source": [
        "# Example usage for MCP_Neurons_AND function\n",
        "X1 = [0, 0, 1, 1]\n",
        "X2 = [0, 1, 0, 1]\n",
        "T = 1  # Threshold value\n",
        "\n",
        "# Call the MCP_Neurons_AND function\n",
        "result = MCP_Neurons_AND(X1, X2, T)\n",
        "\n",
        "# Print the result\n",
        "print(f\"Output of AND gate for inputs {X1} and {X2} with threshold {T}: {result}\")\n"
      ],
      "metadata": {
        "colab": {
          "base_uri": "https://localhost:8080/"
        },
        "id": "e2-lKfat8ocN",
        "outputId": "6efc19f8-7987-49a7-da89-e362a1dd2fb8"
      },
      "execution_count": null,
      "outputs": [
        {
          "output_type": "stream",
          "name": "stdout",
          "text": [
            "Output of AND gate for inputs [0, 0, 1, 1] and [0, 1, 0, 1] with threshold 1: [0, 0, 0, 1]\n"
          ]
        }
      ]
    },
    {
      "cell_type": "code",
      "source": [
        "def MCP_Neurons_OR(X1, X2, T):\n",
        "    \"\"\"\n",
        "    This function implements basic OR operations with MCP Neuron for two inputs.\n",
        "    Arguments:\n",
        "    Inputs:\n",
        "    X1 (1D array): An array of binary values.\n",
        "    X2 (1D array): An array of binary values.\n",
        "    Output:\n",
        "    state_neuron (1D list): The state of the neuron (1 or 0) for the particular inputs.\n",
        "    \"\"\"\n",
        "    assert len(X1) == len(X2)\n",
        "    ### YOUR CODE HERE ###\n",
        "    # Perform an element wise addition of two input arrays stored in a new array(list):\n",
        "    # Create a new array to put all the prediction let's name that a state_neuron.\n",
        "    # Append 1 in sate_neuron if sum (element) of above list is above Threshold else append 0.\n",
        "    state_neuron = []\n",
        "    for i in range(len(X1)):\n",
        "      if X1[i] + X2[i] > T:\n",
        "        state_neuron.append(1)\n",
        "      else:\n",
        "        state_neuron.append(0)\n",
        "\n",
        "    return state_neuron\n"
      ],
      "metadata": {
        "id": "7xaMXlLT9FHC"
      },
      "execution_count": null,
      "outputs": []
    },
    {
      "cell_type": "code",
      "source": [
        "# Example usage for MCP_Neurons_OR function\n",
        "X1 = [0, 0, 1, 1]\n",
        "X2 = [0, 1, 0, 1]\n",
        "T = 0 # Threshold value for OR gate\n",
        "\n",
        "# Call the MCP_Neurons_OR function\n",
        "result_or = MCP_Neurons_OR(X1, X2, T)\n",
        "\n",
        "# Print the result\n",
        "print(f\"Output of OR gate for inputs {X1} and {X2} with threshold {T}: {result_or}\")\n"
      ],
      "metadata": {
        "colab": {
          "base_uri": "https://localhost:8080/"
        },
        "id": "6H-YOy268_Jo",
        "outputId": "36e998b2-1e80-40ac-ab93-ff81b515b53e"
      },
      "execution_count": null,
      "outputs": [
        {
          "output_type": "stream",
          "name": "stdout",
          "text": [
            "Output of OR gate for inputs [0, 0, 1, 1] and [0, 1, 0, 1] with threshold 0: [0, 1, 1, 1]\n"
          ]
        }
      ]
    },
    {
      "cell_type": "markdown",
      "source": [
        "There’s no fixed universal value for θ — you can set it depending on the logic or behavior you want the neuron to model."
      ],
      "metadata": {
        "id": "VRgJs9LEyqS8"
      }
    },
    {
      "cell_type": "markdown",
      "source": [
        "Answer the Following Question:\n",
        "\n",
        "• Question - 1: List out all the limitations of MCP - Neurons.\n",
        "\n",
        "• Question - 2: Think if you can develop a logic to solve for XOR function using MCP Neuron.\n",
        "\n",
        "\n",
        "{Can you devise a if else rules.}"
      ],
      "metadata": {
        "id": "INU11aQFxb08"
      }
    },
    {
      "cell_type": "markdown",
      "source": [],
      "metadata": {
        "id": "5B6ViHVKy9ju"
      }
    },
    {
      "cell_type": "markdown",
      "source": [
        "• Question - 1: List out all the limitations of MCP - Neurons.\n"
      ],
      "metadata": {
        "id": "pBbO-jTSy7Ya"
      }
    },
    {
      "cell_type": "markdown",
      "source": [
        "Here are the main limitations of McCulloch-Pitts (MCP) neurons:\n",
        "\n",
        "a. No Learning Ability\n",
        "\n",
        "MCP neurons have fixed weights and thresholds, so they cannot learn or adapt based on data.\n",
        "\n",
        "b. Only Binary Inputs/Outputs\n",
        "\n",
        "It only works with 0 and 1 values. It cannot handle real-valued inputs.\n",
        "\n",
        "c. Fixed Threshold\n",
        "\n",
        "The neuron fires or not based on a hard threshold — no flexibility or smooth activation.\n",
        "\n",
        "d. Linear Decision Boundaries Only\n",
        "\n",
        "MCP can only solve linearly separable problems like AND, OR.\n",
        "→ Cannot solve problems like XOR, which are non-linearly separable.\n",
        "\n",
        "e. No Concept of Time\n",
        "\n",
        "It cannot deal with temporal patterns (everything is assumed to happen instantly).\n",
        "\n",
        "f. No Bias Term\n",
        "\n",
        "There’s no bias input to shift the threshold easily, which limits flexibility.\n",
        "\n"
      ],
      "metadata": {
        "id": "PCwshxB0y8V2"
      }
    },
    {
      "cell_type": "markdown",
      "source": [
        "• Question - 2: Think if you can develop a logic to solve for XOR function using MCP Neuron.\n"
      ],
      "metadata": {
        "id": "ZERL22dKzMrS"
      }
    },
    {
      "cell_type": "markdown",
      "source": [
        " No, a single MCP neuron cannot solve XOR.\n",
        "\n",
        "Why? Because XOR is not linearly separable, and MCP neurons can only handle linear decision boundaries.\n",
        "\n"
      ],
      "metadata": {
        "id": "hNoPHwThzNQK"
      }
    },
    {
      "cell_type": "markdown",
      "source": [
        "# Implementation for 0 Vs. 1 Classification."
      ],
      "metadata": {
        "id": "Apa9bfLIFJHe"
      }
    },
    {
      "cell_type": "markdown",
      "source": [
        "## Step 1: Load the Dataset"
      ],
      "metadata": {
        "id": "iom83mGLFP_1"
      }
    },
    {
      "cell_type": "code",
      "source": [
        "import pandas as pd\n",
        "import numpy as np\n",
        "import matplotlib.pyplot as plt\n",
        "\n",
        "\n",
        "# Load the dataset\n",
        "df_0_1 = pd.read_csv(\"/content/drive/MyDrive/AI and ML/mnist_0_and_1.csv\")  # Add the correct file path if necessary\n",
        "\n",
        "# Extract features and labels\n",
        "X = df_0_1.drop(columns=[\"label\"]).values  # 784 pixels\n",
        "y = df_0_1[\"label\"].values  # Labels (0 or 1)\n",
        "\n",
        "# Check the shape of the features and labels\n",
        "print(\"Feature matrix shape:\", X.shape)\n",
        "print(\"Label vector shape:\", y.shape)\n"
      ],
      "metadata": {
        "colab": {
          "base_uri": "https://localhost:8080/"
        },
        "id": "7rkW58ct9IYq",
        "outputId": "861c27b0-7cb9-4b5e-a7ef-6fa33b6460d0"
      },
      "execution_count": 1,
      "outputs": [
        {
          "output_type": "stream",
          "name": "stdout",
          "text": [
            "Feature matrix shape: (12665, 784)\n",
            "Label vector shape: (12665,)\n"
          ]
        }
      ]
    },
    {
      "cell_type": "code",
      "source": [
        "from google.colab import drive\n",
        "drive.mount('/content/drive')"
      ],
      "metadata": {
        "colab": {
          "base_uri": "https://localhost:8080/"
        },
        "id": "z8oReo8D0j0p",
        "outputId": "43d5232c-08bd-49ec-d467-e86452be00fc"
      },
      "execution_count": 1,
      "outputs": [
        {
          "output_type": "stream",
          "name": "stdout",
          "text": [
            "Mounted at /content/drive\n"
          ]
        }
      ]
    },
    {
      "cell_type": "markdown",
      "source": [
        "### Viewing the Dataset."
      ],
      "metadata": {
        "id": "jlq0EY2jHheD"
      }
    },
    {
      "cell_type": "code",
      "source": [
        "# Separate images for label 0 and label 1\n",
        "images_0 = X[y == 0]  # Get all images with label 0\n",
        "images_1 = X[y == 1]  # Get all images with label 1\n",
        "\n",
        "fig, axes = plt.subplots(2, 5, figsize=(10, 5))\n",
        "\n",
        "# Check if the arrays have the required amount of data\n",
        "if len(images_0) < 5 or len(images_1) < 5:\n",
        "    print(\"Error: Not enough images in images_0 or images_1 to plot 5 images.\")\n",
        "else:\n",
        "    for i in range(5):\n",
        "        # Plot digit 0\n",
        "        axes[0, i].imshow(images_0[i].reshape(28, 28), cmap=\"gray\")\n",
        "        axes[0, i].set_title(\"Label: 0\")\n",
        "        axes[0, i].axis(\"off\")\n",
        "        # Plot digit 1\n",
        "        axes[1, i].imshow(images_1[i].reshape(28, 28), cmap=\"gray\")\n",
        "        axes[1, i].set_title(\"Label: 1\")\n",
        "        axes[1, i].axis(\"off\")\n",
        "    plt.suptitle(\"First 5 Images of 0 and 1 from MNIST Subset\")\n",
        "    plt.show()"
      ],
      "metadata": {
        "colab": {
          "base_uri": "https://localhost:8080/",
          "height": 451
        },
        "id": "XKY2qjhCHAZ7",
        "outputId": "cc6e6855-3d07-4359-b386-09eea086aa66"
      },
      "execution_count": 2,
      "outputs": [
        {
          "output_type": "display_data",
          "data": {
            "text/plain": [
              "<Figure size 1000x500 with 10 Axes>"
            ],
            "image/png": "[encoded data removed]"
          },
          "metadata": {}
        }
      ]
    },
    {
      "cell_type": "markdown",
      "source": [
        "## Step - 2 - Initializing the Weights:"
      ],
      "metadata": {
        "id": "qyM34tbHIqGi"
      }
    },
    {
      "cell_type": "code",
      "source": [
        "# Initialize weights and bias\n",
        "weights = np.zeros(X.shape[1])  # 784 weights (one for each pixel)\n",
        "bias = 0\n",
        "learning_rate = 0.1\n",
        "epochs = 100"
      ],
      "metadata": {
        "id": "SMsXaZ38HfBI"
      },
      "execution_count": 3,
      "outputs": []
    },
    {
      "cell_type": "markdown",
      "source": [
        "## Step - 3 - Make a Decision function:"
      ],
      "metadata": {
        "id": "EvraDxaeRVeo"
      }
    },
    {
      "cell_type": "code",
      "source": [
        "import numpy as np\n",
        "\n",
        "def decision_function(X, weights, bias):\n",
        "    \"\"\"\n",
        "    Compute the predicted labels for the input data.\n",
        "\n",
        "    Parameters:\n",
        "    - X: Features (input data) as a numpy array of shape (n_samples, n_features)\n",
        "    - weights: Updated weights after training\n",
        "    - bias: Updated bias after training\n",
        "\n",
        "    Returns:\n",
        "    - y_pred_all: The predicted labels for the input data\n",
        "    \"\"\"\n",
        "    predictions = np.dot(X, weights) + bias\n",
        "    #####Your Code Here############  # Activation function (step function)\n",
        "    y_pred_all = np.where(predictions >= 0, 1, 0)        # if prediction is greater than or equal to 0 then it assigns 1 else, it assigns 0.\n",
        "    return y_pred_all"
      ],
      "metadata": {
        "id": "6uVj75txLWQi"
      },
      "execution_count": 4,
      "outputs": []
    },
    {
      "cell_type": "markdown",
      "source": [
        "## Step - 3 - Implement the Perceptron Learning Algorithm"
      ],
      "metadata": {
        "id": "AVZNGyRdI4I4"
      }
    },
    {
      "cell_type": "code",
      "source": [
        "def train_perceptron(X, y, weights, bias, learning_rate=0.1, epochs=100):\n",
        "    \"\"\"\n",
        "    Train the perceptron using the Perceptron Learning Algorithm.\n",
        "\n",
        "    Parameters:\n",
        "    - X: Features (input data) as a numpy array of shape (n_samples, n_features)\n",
        "    - y: Labels (true output) as a numpy array of shape (n_samples,)\n",
        "    - weights: Initial weights as a numpy array of shape (n_features,)\n",
        "    - bias: Initial bias value (scalar)\n",
        "    - learning_rate: Learning rate for weight updates (default is 0.1)\n",
        "    - epochs: Number of iterations to train the model (default is 100)\n",
        "\n",
        "    Returns:\n",
        "    - weights: Updated weights after training\n",
        "    - bias: Updated bias after training\n",
        "    - accuracy: Total correct prediction.\n",
        "    \"\"\"\n",
        "    # Step 3: Perceptron Learning Algorithm\n",
        "    # Your Code here#\n",
        "    for epoch in range(epochs):\n",
        "        predictions = np.dot(X, weights) + bias\n",
        "        y_pred_all = np.where(predictions >= 0, 1, 0)\n",
        "        weights += learning_rate * np.dot(X.T, (y - y_pred_all))\n",
        "        bias += learning_rate * np.sum(y - y_pred_all)\n",
        "        accuracy = np.mean(y_pred_all == y)\n",
        "        print(f\"Epoch {epoch + 1}/{epochs}, Accuracy: {accuracy:.4f}\")\n",
        "    return weights, bias, accuracy"
      ],
      "metadata": {
        "id": "Dg1ocrycJWpA"
      },
      "execution_count": 7,
      "outputs": []
    },
    {
      "cell_type": "markdown",
      "source": [
        "## Training the Perceptron"
      ],
      "metadata": {
        "id": "Va6AGI6iMAG9"
      }
    },
    {
      "cell_type": "code",
      "source": [
        "# After training the model with the perceptron_learning_algorithm\n",
        "weights, bias, accuracy = train_perceptron(X, y, weights, bias)\n",
        "\n",
        "# Evaluate the model using the new function\n",
        "print(\"The Final Accuracy is: \", accuracy)"
      ],
      "metadata": {
        "colab": {
          "base_uri": "https://localhost:8080/"
        },
        "id": "cn8XBYuZLswI",
        "outputId": "b36a45e2-1dd5-44bc-c223-3025f57544ad"
      },
      "execution_count": 8,
      "outputs": [
        {
          "output_type": "stream",
          "name": "stdout",
          "text": [
            "Epoch 1/200, Accuracy: 0.9974\n",
            "Epoch 2/200, Accuracy: 0.9973\n",
            "Epoch 3/200, Accuracy: 0.9974\n",
            "Epoch 4/200, Accuracy: 0.9973\n",
            "Epoch 5/200, Accuracy: 0.9974\n",
            "Epoch 6/200, Accuracy: 0.9974\n",
            "Epoch 7/200, Accuracy: 0.9976\n",
            "Epoch 8/200, Accuracy: 0.9976\n",
            "Epoch 9/200, Accuracy: 0.9976\n",
            "Epoch 10/200, Accuracy: 0.9976\n",
            "Epoch 11/200, Accuracy: 0.9976\n",
            "Epoch 12/200, Accuracy: 0.9976\n",
            "Epoch 13/200, Accuracy: 0.9976\n",
            "Epoch 14/200, Accuracy: 0.9976\n",
            "Epoch 15/200, Accuracy: 0.9976\n",
            "Epoch 16/200, Accuracy: 0.9976\n",
            "Epoch 17/200, Accuracy: 0.9976\n",
            "Epoch 18/200, Accuracy: 0.9976\n",
            "Epoch 19/200, Accuracy: 0.9976\n",
            "Epoch 20/200, Accuracy: 0.9977\n",
            "Epoch 21/200, Accuracy: 0.9979\n",
            "Epoch 22/200, Accuracy: 0.9979\n",
            "Epoch 23/200, Accuracy: 0.9979\n",
            "Epoch 24/200, Accuracy: 0.9979\n",
            "Epoch 25/200, Accuracy: 0.9979\n",
            "Epoch 26/200, Accuracy: 0.9979\n",
            "Epoch 27/200, Accuracy: 0.9979\n",
            "Epoch 28/200, Accuracy: 0.9979\n",
            "Epoch 29/200, Accuracy: 0.9980\n",
            "Epoch 30/200, Accuracy: 0.9979\n",
            "Epoch 31/200, Accuracy: 0.9979\n",
            "Epoch 32/200, Accuracy: 0.9979\n",
            "Epoch 33/200, Accuracy: 0.9979\n",
            "Epoch 34/200, Accuracy: 0.9979\n",
            "Epoch 35/200, Accuracy: 0.9980\n",
            "Epoch 36/200, Accuracy: 0.9979\n",
            "Epoch 37/200, Accuracy: 0.9979\n",
            "Epoch 38/200, Accuracy: 0.9979\n",
            "Epoch 39/200, Accuracy: 0.9979\n",
            "Epoch 40/200, Accuracy: 0.9979\n",
            "Epoch 41/200, Accuracy: 0.9980\n",
            "Epoch 42/200, Accuracy: 0.9980\n",
            "Epoch 43/200, Accuracy: 0.9980\n",
            "Epoch 44/200, Accuracy: 0.9980\n",
            "Epoch 45/200, Accuracy: 0.9980\n",
            "Epoch 46/200, Accuracy: 0.9980\n",
            "Epoch 47/200, Accuracy: 0.9980\n",
            "Epoch 48/200, Accuracy: 0.9980\n",
            "Epoch 49/200, Accuracy: 0.9980\n",
            "Epoch 50/200, Accuracy: 0.9980\n",
            "Epoch 51/200, Accuracy: 0.9980\n",
            "Epoch 52/200, Accuracy: 0.9980\n",
            "Epoch 53/200, Accuracy: 0.9980\n",
            "Epoch 54/200, Accuracy: 0.9980\n",
            "Epoch 55/200, Accuracy: 0.9980\n",
            "Epoch 56/200, Accuracy: 0.9981\n",
            "Epoch 57/200, Accuracy: 0.9981\n",
            "Epoch 58/200, Accuracy: 0.9981\n",
            "Epoch 59/200, Accuracy: 0.9981\n",
            "Epoch 60/200, Accuracy: 0.9981\n",
            "Epoch 61/200, Accuracy: 0.9981\n",
            "Epoch 62/200, Accuracy: 0.9981\n",
            "Epoch 63/200, Accuracy: 0.9981\n",
            "Epoch 64/200, Accuracy: 0.9981\n",
            "Epoch 65/200, Accuracy: 0.9981\n",
            "Epoch 66/200, Accuracy: 0.9981\n",
            "Epoch 67/200, Accuracy: 0.9981\n",
            "Epoch 68/200, Accuracy: 0.9981\n",
            "Epoch 69/200, Accuracy: 0.9981\n",
            "Epoch 70/200, Accuracy: 0.9981\n",
            "Epoch 71/200, Accuracy: 0.9982\n",
            "Epoch 72/200, Accuracy: 0.9981\n",
            "Epoch 73/200, Accuracy: 0.9981\n",
            "Epoch 74/200, Accuracy: 0.9981\n",
            "Epoch 75/200, Accuracy: 0.9981\n",
            "Epoch 76/200, Accuracy: 0.9982\n",
            "Epoch 77/200, Accuracy: 0.9982\n",
            "Epoch 78/200, Accuracy: 0.9983\n",
            "Epoch 79/200, Accuracy: 0.9982\n",
            "Epoch 80/200, Accuracy: 0.9983\n",
            "Epoch 81/200, Accuracy: 0.9983\n",
            "Epoch 82/200, Accuracy: 0.9983\n",
            "Epoch 83/200, Accuracy: 0.9982\n",
            "Epoch 84/200, Accuracy: 0.9983\n",
            "Epoch 85/200, Accuracy: 0.9983\n",
            "Epoch 86/200, Accuracy: 0.9983\n",
            "Epoch 87/200, Accuracy: 0.9982\n",
            "Epoch 88/200, Accuracy: 0.9983\n",
            "Epoch 89/200, Accuracy: 0.9983\n",
            "Epoch 90/200, Accuracy: 0.9983\n",
            "Epoch 91/200, Accuracy: 0.9982\n",
            "Epoch 92/200, Accuracy: 0.9983\n",
            "Epoch 93/200, Accuracy: 0.9983\n",
            "Epoch 94/200, Accuracy: 0.9983\n",
            "Epoch 95/200, Accuracy: 0.9983\n",
            "Epoch 96/200, Accuracy: 0.9983\n",
            "Epoch 97/200, Accuracy: 0.9984\n",
            "Epoch 98/200, Accuracy: 0.9984\n",
            "Epoch 99/200, Accuracy: 0.9984\n",
            "Epoch 100/200, Accuracy: 0.9984\n",
            "Epoch 101/200, Accuracy: 0.9984\n",
            "Epoch 102/200, Accuracy: 0.9984\n",
            "Epoch 103/200, Accuracy: 0.9984\n",
            "Epoch 104/200, Accuracy: 0.9984\n",
            "Epoch 105/200, Accuracy: 0.9984\n",
            "Epoch 106/200, Accuracy: 0.9984\n",
            "Epoch 107/200, Accuracy: 0.9984\n",
            "Epoch 108/200, Accuracy: 0.9984\n",
            "Epoch 109/200, Accuracy: 0.9984\n",
            "Epoch 110/200, Accuracy: 0.9984\n",
            "Epoch 111/200, Accuracy: 0.9983\n",
            "Epoch 112/200, Accuracy: 0.9984\n",
            "Epoch 113/200, Accuracy: 0.9983\n",
            "Epoch 114/200, Accuracy: 0.9984\n",
            "Epoch 115/200, Accuracy: 0.9984\n",
            "Epoch 116/200, Accuracy: 0.9983\n",
            "Epoch 117/200, Accuracy: 0.9984\n",
            "Epoch 118/200, Accuracy: 0.9984\n",
            "Epoch 119/200, Accuracy: 0.9983\n",
            "Epoch 120/200, Accuracy: 0.9985\n",
            "Epoch 121/200, Accuracy: 0.9985\n",
            "Epoch 122/200, Accuracy: 0.9985\n",
            "Epoch 123/200, Accuracy: 0.9985\n",
            "Epoch 124/200, Accuracy: 0.9985\n",
            "Epoch 125/200, Accuracy: 0.9985\n",
            "Epoch 126/200, Accuracy: 0.9985\n",
            "Epoch 127/200, Accuracy: 0.9985\n",
            "Epoch 128/200, Accuracy: 0.9985\n",
            "Epoch 129/200, Accuracy: 0.9986\n",
            "Epoch 130/200, Accuracy: 0.9986\n",
            "Epoch 131/200, Accuracy: 0.9986\n",
            "Epoch 132/200, Accuracy: 0.9987\n",
            "Epoch 133/200, Accuracy: 0.9986\n",
            "Epoch 134/200, Accuracy: 0.9987\n",
            "Epoch 135/200, Accuracy: 0.9986\n",
            "Epoch 136/200, Accuracy: 0.9987\n",
            "Epoch 137/200, Accuracy: 0.9986\n",
            "Epoch 138/200, Accuracy: 0.9987\n",
            "Epoch 139/200, Accuracy: 0.9986\n",
            "Epoch 140/200, Accuracy: 0.9987\n",
            "Epoch 141/200, Accuracy: 0.9986\n",
            "Epoch 142/200, Accuracy: 0.9987\n",
            "Epoch 143/200, Accuracy: 0.9986\n",
            "Epoch 144/200, Accuracy: 0.9987\n",
            "Epoch 145/200, Accuracy: 0.9986\n",
            "Epoch 146/200, Accuracy: 0.9987\n",
            "Epoch 147/200, Accuracy: 0.9986\n",
            "Epoch 148/200, Accuracy: 0.9987\n",
            "Epoch 149/200, Accuracy: 0.9986\n",
            "Epoch 150/200, Accuracy: 0.9987\n",
            "Epoch 151/200, Accuracy: 0.9987\n",
            "Epoch 152/200, Accuracy: 0.9986\n",
            "Epoch 153/200, Accuracy: 0.9987\n",
            "Epoch 154/200, Accuracy: 0.9986\n",
            "Epoch 155/200, Accuracy: 0.9987\n",
            "Epoch 156/200, Accuracy: 0.9986\n",
            "Epoch 157/200, Accuracy: 0.9987\n",
            "Epoch 158/200, Accuracy: 0.9986\n",
            "Epoch 159/200, Accuracy: 0.9987\n",
            "Epoch 160/200, Accuracy: 0.9986\n",
            "Epoch 161/200, Accuracy: 0.9987\n",
            "Epoch 162/200, Accuracy: 0.9986\n",
            "Epoch 163/200, Accuracy: 0.9987\n",
            "Epoch 164/200, Accuracy: 0.9986\n",
            "Epoch 165/200, Accuracy: 0.9987\n",
            "Epoch 166/200, Accuracy: 0.9986\n",
            "Epoch 167/200, Accuracy: 0.9987\n",
            "Epoch 168/200, Accuracy: 0.9987\n",
            "Epoch 169/200, Accuracy: 0.9986\n",
            "Epoch 170/200, Accuracy: 0.9987\n",
            "Epoch 171/200, Accuracy: 0.9986\n",
            "Epoch 172/200, Accuracy: 0.9987\n",
            "Epoch 173/200, Accuracy: 0.9986\n",
            "Epoch 174/200, Accuracy: 0.9987\n",
            "Epoch 175/200, Accuracy: 0.9986\n",
            "Epoch 176/200, Accuracy: 0.9987\n",
            "Epoch 177/200, Accuracy: 0.9986\n",
            "Epoch 178/200, Accuracy: 0.9987\n",
            "Epoch 179/200, Accuracy: 0.9986\n",
            "Epoch 180/200, Accuracy: 0.9987\n",
            "Epoch 181/200, Accuracy: 0.9987\n",
            "Epoch 182/200, Accuracy: 0.9987\n",
            "Epoch 183/200, Accuracy: 0.9987\n",
            "Epoch 184/200, Accuracy: 0.9987\n",
            "Epoch 185/200, Accuracy: 0.9987\n",
            "Epoch 186/200, Accuracy: 0.9987\n",
            "Epoch 187/200, Accuracy: 0.9987\n",
            "Epoch 188/200, Accuracy: 0.9987\n",
            "Epoch 189/200, Accuracy: 0.9987\n",
            "Epoch 190/200, Accuracy: 0.9987\n",
            "Epoch 191/200, Accuracy: 0.9987\n",
            "Epoch 192/200, Accuracy: 0.9987\n",
            "Epoch 193/200, Accuracy: 0.9987\n",
            "Epoch 194/200, Accuracy: 0.9987\n",
            "Epoch 195/200, Accuracy: 0.9987\n",
            "Epoch 196/200, Accuracy: 0.9987\n",
            "Epoch 197/200, Accuracy: 0.9987\n",
            "Epoch 198/200, Accuracy: 0.9987\n",
            "Epoch 199/200, Accuracy: 0.9987\n",
            "Epoch 200/200, Accuracy: 0.9987\n",
            "The Final Accuracy is:  0.9987366758784051\n"
          ]
        }
      ]
    },
    {
      "cell_type": "markdown",
      "source": [
        "## Step 5: Visualize Misclassified Images"
      ],
      "metadata": {
        "id": "-SLq1jbSMKPm"
      }
    },
    {
      "cell_type": "code",
      "source": [
        "# Get predictions for all data points\n",
        "predictions = np.dot(X, weights) + bias\n",
        "y_pred = np.where(predictions >= 0, 1, 0)\n",
        "\n",
        "# Calculate final accuracy\n",
        "final_accuracy = np.mean(y_pred == y)\n",
        "print(f\"Final Accuracy: {final_accuracy:.4f}\")\n",
        "\n",
        "# Step 5: Visualize Misclassified Images\n",
        "misclassified_idx = np.where(y_pred != y)[0]\n",
        "if len(misclassified_idx) > 0:\n",
        "    fig, axes = plt.subplots(2, 5, figsize=(10, 5))\n",
        "    for ax, idx in zip(axes.flat, misclassified_idx[:10]):  # Show 10 misclassified images\n",
        "        ax.imshow(X[idx].reshape(28, 28), cmap=\"gray\")\n",
        "        ax.set_title(f\"Pred: {y_pred[idx]}, True: {y[idx]}\")\n",
        "        ax.axis(\"off\")\n",
        "    plt.suptitle(\"Misclassified Images\")\n",
        "    plt.show()\n",
        "else:\n",
        "    print(\"All images were correctly classified!\")"
      ],
      "metadata": {
        "colab": {
          "base_uri": "https://localhost:8080/",
          "height": 468
        },
        "id": "KAMz1RPGMN_A",
        "outputId": "ea7dda02-431d-442c-93cd-c5b7ab0849f5"
      },
      "execution_count": 9,
      "outputs": [
        {
          "output_type": "stream",
          "name": "stdout",
          "text": [
            "Final Accuracy: 0.9987\n"
          ]
        },
        {
          "output_type": "display_data",
          "data": {
            "text/plain": [
              "<Figure size 1000x500 with 10 Axes>"
            ],
            "image/png": "[encoded data removed]"
          },
          "metadata": {}
        }
      ]
    },
    {
      "cell_type": "markdown",
      "source": [
        "here 10 samples are incorrect prediction, so the accuaracy becomes 0.9974"
      ],
      "metadata": {
        "id": "jteAAz0u-tAi"
      }
    }
  ]
}